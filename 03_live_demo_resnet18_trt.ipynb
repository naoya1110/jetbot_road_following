{
 "cells": [
  {
   "cell_type": "markdown",
   "metadata": {
    "id": "JKwvuMxsFghR"
   },
   "source": [
    "# Road Following by Classification - ロボットの自律走行\n"
   ]
  },
  {
   "cell_type": "markdown",
   "metadata": {},
   "source": [
    "## はじめに\n",
    "いよいよ学習済みモデルを使って自律走行させてみましょう。Google Colabで学習させた`best_model_resnet18.pth`をJetBotにアップロードしてください。"
   ]
  },
  {
   "cell_type": "markdown",
   "metadata": {
    "id": "G9Ae369MGcZP"
   },
   "source": [
    "## TensorRTモデルの作成\n",
    "Google Colabで学習したPyTorch形式のモデル`best_model_resnet18.pth`は JetBot上では推論速度が遅いのでより高速に処理ができるTensorRT形式に変換しましょう。"
   ]
  },
  {
   "cell_type": "code",
   "execution_count": null,
   "metadata": {},
   "outputs": [],
   "source": [
    "import torch\n",
    "import torchvision\n",
    "import torchvision.models as models\n",
    "import torch.nn as nn\n",
    "\n",
    "def create_resnet18():\n",
    "    model = models.resnet18(pretrained=True)\n",
    "    model.fc = nn.Sequential(\n",
    "        nn.Dropout(0.5),\n",
    "        nn.Linear(512, 3)\n",
    "    )\n",
    "    return model\n",
    "\n",
    "model = create_resnet18().cuda().eval().half()\n",
    "\n",
    "model.load_state_dict(torch.load('best_model_resnet18.pth'))"
   ]
  },
  {
   "cell_type": "code",
   "execution_count": null,
   "metadata": {},
   "outputs": [],
   "source": [
    "from torch2trt import torch2trt\n",
    "\n",
    "data = torch.zeros((1, 3, 224, 224)).cuda().half()\n",
    "model_trt = torch2trt(model, [data], fp16_mode=True)\n",
    "\n",
    "torch.save(model_trt.state_dict(), 'best_model_resnet18_trt.pth')"
   ]
  },
  {
   "cell_type": "markdown",
   "metadata": {
    "id": "zjJCDzvGFghX"
   },
   "source": [
    "## TensorRTモデルのロード\n",
    "TensorRT形式のモデル`best_model_resnet18_trt.pth`を読み込みましょう。"
   ]
  },
  {
   "cell_type": "code",
   "execution_count": null,
   "metadata": {},
   "outputs": [],
   "source": [
    "import torch\n",
    "from torch2trt import TRTModule\n",
    "\n",
    "model_trt = TRTModule()\n",
    "model_trt.load_state_dict(torch.load('best_model_resnet18_trt.pth'))"
   ]
  },
  {
   "cell_type": "markdown",
   "metadata": {
    "id": "BRGQRpcBFghY"
   },
   "source": [
    "## 画像の前処理関数\n",
    "\n",
    "入力画像に対して画像分類AIが正しく推論できるように前処理を行う関数を定義します。"
   ]
  },
  {
   "cell_type": "code",
   "execution_count": null,
   "metadata": {},
   "outputs": [],
   "source": [
    "import cv2\n",
    "import numpy as np\n",
    "\n",
    "def preprocess(camera_value):\n",
    "    global device, normalize\n",
    "    x = camera_value\n",
    "    x = cv2.cvtColor(x, cv2.COLOR_BGR2RGB)\n",
    "    x = x.transpose((2, 0, 1))\n",
    "    x = torch.from_numpy(x).float()\n",
    "    x = x.cuda().half()\n",
    "    x = x[None, ...]\n",
    "    x = x/255.\n",
    "    return x"
   ]
  },
  {
   "cell_type": "markdown",
   "metadata": {
    "id": "1k2V5NKkHkAm"
   },
   "source": [
    "## Cameraの準備\n",
    "カメラが正しく動くか確認しましょう。"
   ]
  },
  {
   "cell_type": "code",
   "execution_count": null,
   "metadata": {
    "id": "EdgXKPloFgha"
   },
   "outputs": [],
   "source": [
    "import traitlets\n",
    "from IPython.display import display\n",
    "import ipywidgets.widgets as widgets\n",
    "from jetbot import Camera, bgr8_to_jpeg\n",
    "\n",
    "image = widgets.Image(format='jpeg', width=300, height=300)\n",
    "camera = Camera.instance(width=224, height=224)\n",
    "camera_link = traitlets.dlink((camera, 'value'), (image, 'value'), transform=bgr8_to_jpeg)\n",
    "display(image)"
   ]
  },
  {
   "cell_type": "markdown",
   "metadata": {},
   "source": [
    "## 試しに推論\n",
    "きちんと推論できるか試してみましょう。"
   ]
  },
  {
   "cell_type": "code",
   "execution_count": null,
   "metadata": {},
   "outputs": [],
   "source": [
    "import torch.nn.functional as F\n",
    "\n",
    "with torch.no_grad():\n",
    "    x = camera.value\n",
    "    x = preprocess(x)\n",
    "    y = model_trt(x)\n",
    "    y = F.softmax(y, dim=1)\n",
    "    y_idx = torch.argmax(y, dim=1).item()\n",
    "    print(y_idx)"
   ]
  },
  {
   "cell_type": "markdown",
   "metadata": {
    "id": "StFLmt8uFghc"
   },
   "source": [
    "## Robotの作成\n",
    "ロボットのモーターを制御するためにRobotクラスのインスタンスを作成しましょう。"
   ]
  },
  {
   "cell_type": "code",
   "execution_count": null,
   "metadata": {
    "id": "bCsq9LspFghc"
   },
   "outputs": [],
   "source": [
    "from jetbot import Robot\n",
    "\n",
    "robot = Robot()"
   ]
  },
  {
   "cell_type": "markdown",
   "metadata": {
    "id": "YNsLPGsMFghc"
   },
   "source": [
    "### ロボットの動作関数の定義\n",
    "左右のモーターの出力値を設定してロボットを動作させるための関数を定義しましょう。"
   ]
  },
  {
   "cell_type": "code",
   "execution_count": null,
   "metadata": {
    "id": "b8yMHZ0VFghc"
   },
   "outputs": [],
   "source": [
    "def move_forward():\n",
    "    robot.set_motors(0.5, 0.5)\n",
    "\n",
    "def turn_left():\n",
    "    robot.set_motors(0.2, 0.5)\n",
    "\n",
    "def turn_right():\n",
    "    robot.set_motors(0.5, 0.2)\n",
    "    \n",
    "actions_dict = {0:\"Go Forward\", 1:\"Turn Left\", 2:\"Turn Right\"}"
   ]
  },
  {
   "cell_type": "markdown",
   "metadata": {
    "id": "uILzSjgmKEXg"
   },
   "source": [
    "## 自律走行\n",
    "ロボットを走らせてみましょう。"
   ]
  },
  {
   "cell_type": "code",
   "execution_count": null,
   "metadata": {
    "id": "9kLBthwAFghc",
    "outputId": "863df5c6-2f49-42ab-e48a-bcba8f0ba838"
   },
   "outputs": [],
   "source": [
    "move_robot = True # Trueのときロボットが動く，Falseのとき動かない\n",
    "\n",
    "import time\n",
    "t0 = time.time()\n",
    "\n",
    "display(image)\n",
    "steps = 1000 # 値を大きくすると長い時間ロボットが動く\n",
    "\n",
    "softmax = torch.nn.Softmax(dim=1)\n",
    "\n",
    "with torch.no_grad():\n",
    "\n",
    "    for i in range(steps):\n",
    "        x = camera.value\n",
    "        x = preprocess(x)\n",
    "        y = model_trt(x)\n",
    "        y = softmax(y)\n",
    "        y_idx = torch.argmax(y, dim=1).item()\n",
    "        \n",
    "        if move_robot:\n",
    "            if y_idx == 0: move_forward()\n",
    "            elif y_idx == 1: turn_left()\n",
    "            elif y_idx == 2: turn_right()\n",
    "        \n",
    "        now = time.time()\n",
    "        dt = now-t0\n",
    "        t0 = now\n",
    "        FPS = 1/dt\n",
    "        \n",
    "        print(f\"\\rStep:{i+1}/{steps}   Action:{actions_dict[y_idx]}   FPS:{FPS:.0f}\", end=\"\")\n",
    "\n",
    "robot.stop()"
   ]
  },
  {
   "cell_type": "markdown",
   "metadata": {
    "id": "tHUWbWd3I6c2"
   },
   "source": [
    "## 終了\n",
    "終了する場合は次のセルを実行してください。"
   ]
  },
  {
   "cell_type": "code",
   "execution_count": null,
   "metadata": {
    "id": "H6HPA2wWFghc"
   },
   "outputs": [],
   "source": [
    "robot.stop()\n",
    "camera.stop()"
   ]
  },
  {
   "cell_type": "code",
   "execution_count": null,
   "metadata": {},
   "outputs": [],
   "source": []
  }
 ],
 "metadata": {
  "colab": {
   "name": "live_demo.ipynb",
   "provenance": [],
   "toc_visible": true
  },
  "kernelspec": {
   "display_name": "Python 3",
   "language": "python",
   "name": "python3"
  },
  "language_info": {
   "codemirror_mode": {
    "name": "ipython",
    "version": 3
   },
   "file_extension": ".py",
   "mimetype": "text/x-python",
   "name": "python",
   "nbconvert_exporter": "python",
   "pygments_lexer": "ipython3",
   "version": "3.6.9"
  }
 },
 "nbformat": 4,
 "nbformat_minor": 4
}
