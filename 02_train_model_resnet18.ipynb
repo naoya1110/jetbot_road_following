{
  "nbformat": 4,
  "nbformat_minor": 0,
  "metadata": {
    "accelerator": "GPU",
    "colab": {
      "provenance": [],
      "include_colab_link": true
    },
    "kernelspec": {
      "display_name": "Python 3",
      "language": "python",
      "name": "python3"
    },
    "language_info": {
      "codemirror_mode": {
        "name": "ipython",
        "version": 3
      },
      "file_extension": ".py",
      "mimetype": "text/x-python",
      "name": "python",
      "nbconvert_exporter": "python",
      "pygments_lexer": "ipython3",
      "version": "3.6.9"
    }
  },
  "cells": [
    {
      "cell_type": "markdown",
      "metadata": {
        "id": "view-in-github",
        "colab_type": "text"
      },
      "source": [
        "<a href=\"https://colab.research.google.com/github/naoya1110/jetbot_road_following/blob/main/02_train_model_resnet18.ipynb\" target=\"_parent\"><img src=\"https://colab.research.google.com/assets/colab-badge.svg\" alt=\"Open In Colab\"/></a>"
      ]
    },
    {
      "cell_type": "markdown",
      "metadata": {
        "id": "1XDPz7h7mBs4"
      },
      "source": [
        "# Road Following by Classification - AIモデルの学習"
      ]
    },
    {
      "cell_type": "markdown",
      "metadata": {
        "id": "G2QUA6Rawrek"
      },
      "source": [
        "## はじめに\n",
        "データ収集が終わったらAIモデルを学習させましょう。"
      ]
    },
    {
      "cell_type": "markdown",
      "metadata": {
        "id": "_r5NfcQO3Ypa"
      },
      "source": [
        "### GPUの確認\n",
        "モデルの学習に必要なGPUが使える状態か確認しましょう。\"cuda\"と表示されればGPUが使えます。"
      ]
    },
    {
      "cell_type": "code",
      "metadata": {
        "id": "m0BLwskStrUB"
      },
      "source": [
        "import torch\n",
        "\n",
        "if torch.cuda.is_available():\n",
        "    device = \"cuda\"\n",
        "else:\n",
        "    device = \"cpu\"\n",
        "\n",
        "print(device)"
      ],
      "execution_count": null,
      "outputs": []
    },
    {
      "cell_type": "markdown",
      "metadata": {
        "id": "JKQAYqgs2UI_"
      },
      "source": [
        "### パッケージのインポート\n",
        "必要なPythonパッケージをインポートしましょう。"
      ]
    },
    {
      "cell_type": "code",
      "metadata": {
        "id": "IH57yMgb2VEh"
      },
      "source": [
        "import os\n",
        "import numpy as np\n",
        "import matplotlib.pyplot as plt\n",
        "import seaborn as sns\n",
        "import cv2\n",
        "from tqdm.notebook import tqdm\n",
        "import shutil"
      ],
      "execution_count": null,
      "outputs": []
    },
    {
      "cell_type": "markdown",
      "metadata": {
        "id": "xPpYl8py2CJz"
      },
      "source": [
        "## データの準備"
      ]
    },
    {
      "cell_type": "markdown",
      "metadata": {
        "id": "lNe8qgKuxoQ7"
      },
      "source": [
        "### データのアップロード\n",
        "左のファイルタブを開いてdataset.zipをアップロードしましょう。アップロードには少し時間がかかります。"
      ]
    },
    {
      "cell_type": "markdown",
      "metadata": {
        "id": "VfGGKRB2xyV4"
      },
      "source": [
        "### ZIPファイルの解凍\n",
        "次のセルを実行してdataset.zipを解凍しましょう。"
      ]
    },
    {
      "cell_type": "code",
      "metadata": {
        "id": "1_nrfm_PlNtO"
      },
      "source": [
        "!unzip -q dataset.zip"
      ],
      "execution_count": null,
      "outputs": []
    },
    {
      "cell_type": "markdown",
      "metadata": {
        "id": "7MN9UVYCz3nR"
      },
      "source": [
        "### 壊れたデータの削除\n",
        "データセットには画像として読み込めない壊れたデータが含まれていることがあります。このようなデータはモデルの学習に使用できないので削除しましょう。"
      ]
    },
    {
      "cell_type": "code",
      "metadata": {
        "id": "piJmvrfI1Dgh"
      },
      "source": [
        "subdirs = sorted(os.listdir(\"dataset\"))\n",
        "\n",
        "for subdir in subdirs:\n",
        "    filenames = os.listdir(os.path.join(\"dataset\", subdir))\n",
        "    for filename in filenames:\n",
        "        path = os.path.join(\"dataset\", subdir, filename)\n",
        "        img = cv2.imread(path)\n",
        "        if img is None:\n",
        "            try:\n",
        "                os.remove(path)\n",
        "                print(\"Removed\", path)\n",
        "            except IsADirectoryError:\n",
        "                shutil.rmtree(path)\n",
        "                print(\"Removed\", path)"
      ],
      "execution_count": null,
      "outputs": []
    },
    {
      "cell_type": "markdown",
      "metadata": {
        "id": "3EGR3ex31iEH"
      },
      "source": [
        "### データ量の確認\n",
        "各クラスのデータがどれくらいあるか確認しましょう。"
      ]
    },
    {
      "cell_type": "code",
      "metadata": {
        "id": "RwqyVR_6nDul"
      },
      "source": [
        "n_files = {}\n",
        "\n",
        "for subdir in subdirs:\n",
        "    n_file =  len(os.listdir(os.path.join(\"dataset\", subdir)))\n",
        "    n_files[subdir]=n_file\n",
        "\n",
        "print(n_files)\n",
        "plt.figure(figsize=(5,3))\n",
        "plt.rcParams[\"font.size\"]=14\n",
        "plt.bar(n_files.keys(), n_files.values())"
      ],
      "execution_count": null,
      "outputs": []
    },
    {
      "cell_type": "markdown",
      "metadata": {
        "id": "IhNEHdOW2rxO"
      },
      "source": [
        "### クラスの重み (Class Weights)\n",
        "データ量に偏りがあるとAIモデルは偏った推論をするように学習してしまうことがあります。これを補正するために各クラスのデータ量に応じた重みづけを学習時に利用します。"
      ]
    },
    {
      "cell_type": "code",
      "metadata": {
        "id": "5tAJkM7SJmD-"
      },
      "source": [
        "n_total = sum(n_files.values())\n",
        "class_weights = (1/np.array(list(n_files.values())))*(n_total/3)\n",
        "class_weights = torch.tensor(class_weights, dtype=torch.float32)\n",
        "class_weights"
      ],
      "execution_count": null,
      "outputs": []
    },
    {
      "cell_type": "markdown",
      "metadata": {
        "id": "NCwm8-zBmBtA"
      },
      "source": [
        "### Datasetオブジェクトの作成"
      ]
    },
    {
      "cell_type": "code",
      "metadata": {
        "id": "aqqeo3DpmBtB"
      },
      "source": [
        "import torchvision\n",
        "import torchvision.datasets as datasets\n",
        "import torchvision.transforms.v2 as v2\n",
        "\n",
        "\n",
        "dataset = datasets.ImageFolder(\n",
        "    'dataset',\n",
        "    v2.Compose([\n",
        "        v2.ColorJitter(0.1, 0.1, 0.1, 0.1),\n",
        "        v2.Resize((224, 224)),\n",
        "        v2.ToTensor(),\n",
        "    ])\n",
        ")"
      ],
      "execution_count": null,
      "outputs": []
    },
    {
      "cell_type": "markdown",
      "metadata": {
        "id": "L54IEcBr23n7"
      },
      "source": [
        "### Class Index\n",
        "クラスの指標（インデックス）を確認しましょう。"
      ]
    },
    {
      "cell_type": "code",
      "metadata": {
        "id": "UcU5OzE81j5q"
      },
      "source": [
        "dataset.class_to_idx"
      ],
      "execution_count": null,
      "outputs": []
    },
    {
      "cell_type": "markdown",
      "metadata": {
        "id": "JWbl2IJfM3ig"
      },
      "source": [
        "クラス名の辞書を作成しましょう。"
      ]
    },
    {
      "cell_type": "code",
      "metadata": {
        "id": "IQn1DvoiMipw"
      },
      "source": [
        "classnames = {}\n",
        "\n",
        "for key, value in dataset.class_to_idx.items():\n",
        "    classnames[value] = key\n",
        "\n",
        "classnames"
      ],
      "execution_count": null,
      "outputs": []
    },
    {
      "cell_type": "markdown",
      "metadata": {
        "id": "woi0SNXZmBtB"
      },
      "source": [
        "### Train Test Split\n",
        "全データを学習用データとテスト用データに分離しましょう。ここでは全データの20%をテスト用データとして使用します。"
      ]
    },
    {
      "cell_type": "code",
      "metadata": {
        "id": "jyxBiWhVmBtC"
      },
      "source": [
        "test_size = int(0.2*len(dataset))\n",
        "train_size = len(dataset)-test_size\n",
        "print(\"train size:\", train_size)\n",
        "print(\"test size:\", test_size)\n",
        "train_dataset, test_dataset = torch.utils.data.random_split(dataset, [train_size, test_size])"
      ],
      "execution_count": null,
      "outputs": []
    },
    {
      "cell_type": "markdown",
      "metadata": {
        "id": "lvgz5TAcmBtD"
      },
      "source": [
        "### DataLoaderオブジェクトの作成\n",
        "学習用とテスト用のDataLoaderオブジェクトを作成しましょう。"
      ]
    },
    {
      "cell_type": "code",
      "metadata": {
        "id": "6zDsK187mBtD"
      },
      "source": [
        "train_loader = torch.utils.data.DataLoader(\n",
        "    train_dataset,\n",
        "    batch_size=20,\n",
        "    shuffle=True,\n",
        "    num_workers=2\n",
        ")\n",
        "\n",
        "test_loader = torch.utils.data.DataLoader(\n",
        "    test_dataset,\n",
        "    batch_size=20,\n",
        "    shuffle=False,\n",
        "    num_workers=2\n",
        ")"
      ],
      "execution_count": null,
      "outputs": []
    },
    {
      "cell_type": "markdown",
      "metadata": {
        "id": "FF8ZUfqtzIri"
      },
      "source": [
        "## AIモデルの準備"
      ]
    },
    {
      "cell_type": "markdown",
      "metadata": {
        "id": "WEenc3DFmBtE"
      },
      "source": [
        "### ResNet18\n",
        "今回はResNet18というAIモデルを使用しましょう。"
      ]
    },
    {
      "cell_type": "code",
      "source": [
        "import torchvision.models as models\n",
        "import torch.nn as nn\n",
        "\n",
        "def create_resnet18():\n",
        "    model = models.resnet18(pretrained=True)\n",
        "    model.fc = nn.Sequential(\n",
        "        nn.Dropout(0.5),\n",
        "        nn.Linear(512, 3)\n",
        "    )\n",
        "    return model\n",
        "\n",
        "model = create_resnet18().to(device)"
      ],
      "metadata": {
        "id": "-PvmT6OQ_vFl"
      },
      "execution_count": null,
      "outputs": []
    },
    {
      "cell_type": "markdown",
      "metadata": {
        "id": "sqaeFfoOdJf7"
      },
      "source": [
        "## モデルの学習"
      ]
    },
    {
      "cell_type": "markdown",
      "metadata": {
        "id": "GYQgmwJPmBtF"
      },
      "source": [
        "### 学習ループ\n",
        "\n",
        "モデルの学習しましょう。ハイパーパラメータは適宜変更してください。"
      ]
    },
    {
      "cell_type": "code",
      "metadata": {
        "id": "yzQx5mSnpt3y"
      },
      "source": [
        "import torch.optim as optim\n",
        "\n",
        "model = create_resnet18().to(device)\n",
        "loss_func = nn.CrossEntropyLoss(weight=class_weights.to(device))                      # set loss function\n",
        "optimizer = optim.Adam(model.parameters(), lr=1E-4)    # set optimizer\n",
        "epochs = 10\n",
        "\n",
        "best_model_path = 'best_model_resnet18.pth'\n",
        "best_accuracy = 0.0\n",
        "\n",
        "# create empty lists for saving metrics during training\n",
        "train_loss_list = []\n",
        "train_accuracy_list = []\n",
        "test_loss_list = []\n",
        "test_accuracy_list = []\n",
        "\n",
        "for epoch in range(epochs):\n",
        "    print(\"-----------------------------\")\n",
        "    print(f\"Epoch {epoch+1}/{epochs}\")\n",
        "\n",
        "    # initialize metrics\n",
        "    train_correct_count = 0\n",
        "    train_accuracy = 0\n",
        "    train_loss = 0\n",
        "    test_correct_count = 0\n",
        "    test_accuracy = 0\n",
        "    test_loss = 0\n",
        "\n",
        "    #--- Training Phase ---#\n",
        "    model.train()    # set model to training mode\n",
        "\n",
        "    pbar = tqdm(train_loader)\n",
        "    pbar.set_description(\"Train\")\n",
        "\n",
        "    for x_batch, y_batch in pbar:      # take mini batch data from train_loader\n",
        "\n",
        "        x_batch = x_batch.to(device)     # load x_batch data on GPU\n",
        "        y_batch = y_batch.to(device)     # load y_batch data on GPU\n",
        "\n",
        "        optimizer.zero_grad()                  # reset gradients to 0\n",
        "        p_batch = model(x_batch)               # do prediction\n",
        "        loss = loss_func(p_batch, y_batch)     # measure loss\n",
        "        loss.backward()                        # calculate gradients\n",
        "        optimizer.step()                       # update model parameters\n",
        "\n",
        "        train_loss += loss.item()                                # accumulate loss value\n",
        "        p_batch_label = torch.argmax(p_batch, dim=1)             # convert p_batch vector to p_batch_label\n",
        "        train_correct_count += (p_batch_label == y_batch).sum()  # count up number of correct predictions\n",
        "\n",
        "        pbar.set_postfix({\"accuracy\":f\"{(p_batch_label == y_batch).sum()/len(x_batch):.4f}\", \"loss\": f\"{loss.item():.4f}\"})\n",
        "    #----------------------#\n",
        "\n",
        "    #--- Evaluation Phase ---#\n",
        "    with torch.no_grad():   # disable autograd for saving memory usage\n",
        "        model.eval()        # set model to evaluation mode\n",
        "\n",
        "        pbar = tqdm(test_loader)\n",
        "        pbar.set_description(\"Test\")\n",
        "\n",
        "        for x_batch, y_batch in pbar:   # take mini batch data from test_loader\n",
        "\n",
        "            x_batch = x_batch.to(device)     # load x_batch data on GPU\n",
        "            y_batch = y_batch.to(device)     # load y_batch data on GPU\n",
        "\n",
        "            p_batch = model(x_batch)              # do prediction\n",
        "            loss = loss_func(p_batch, y_batch)    # measure loss\n",
        "\n",
        "            test_loss += loss.item()                                # accumulate loss value\n",
        "            p_batch_label = torch.argmax(p_batch, dim=1)            # convert p_batch vector to p_batch_label\n",
        "            test_correct_count += (p_batch_label == y_batch).sum()  # count up number of correct predictions\n",
        "\n",
        "            pbar.set_postfix({\"accuracy\":f\"{(p_batch_label == y_batch).sum()/len(x_batch):.4f}\", \"loss\": f\"{loss.item():.4f}\"})\n",
        "    #------------------------#\n",
        "\n",
        "    train_accuracy = train_correct_count.item()/len(train_dataset)   # determine accuracy for training data\n",
        "    test_accuracy = test_correct_count.item()/len(test_dataset)      # determine accuracy for test data\n",
        "    train_loss = train_loss/len(train_loader)                        # determine loss for training data\n",
        "    test_loss = test_loss/len(test_loader)                           # determine loss for test data\n",
        "\n",
        "    # show and store metrics\n",
        "    print(f\"Train: Accuracy={train_accuracy:.3f} Loss={train_loss:.3f}, Test: Accuracy={test_accuracy:.3f} Loss={test_loss:.3f}\")\n",
        "    train_accuracy_list.append(train_accuracy)\n",
        "    train_loss_list.append(train_loss)\n",
        "    test_accuracy_list.append(test_accuracy)\n",
        "    test_loss_list.append(test_loss)\n",
        "\n",
        "    # save the model if test accuracy is better than before\n",
        "    if test_accuracy > best_accuracy:\n",
        "        torch.save(model.state_dict(), best_model_path)\n",
        "        print(f\"Test accuracy improved from {best_accuracy:.3f} to {test_accuracy:.3f}\")\n",
        "        print(f\"Model saved at {best_model_path}\")\n",
        "        best_accuracy = test_accuracy"
      ],
      "execution_count": null,
      "outputs": []
    },
    {
      "cell_type": "markdown",
      "metadata": {
        "id": "SFRsHo9N34K7"
      },
      "source": [
        "### 学習曲線\n",
        "正解率とロスがどのように変化したか確認しましょう。"
      ]
    },
    {
      "cell_type": "code",
      "metadata": {
        "id": "PZlwSRJdtbyJ"
      },
      "source": [
        "plt.figure(figsize=(5,3))\n",
        "plt.rcParams[\"font.size\"]=14\n",
        "real_epochs = np.arange(len(train_accuracy_list))+1\n",
        "\n",
        "plt.plot(real_epochs, train_accuracy_list, c=\"#ff7f0e\", label=\"train acc\")\n",
        "plt.plot(real_epochs, test_accuracy_list, lw=0, marker=\"o\", c=\"#ff7f0e\", label=\"test acc\")\n",
        "plt.plot(real_epochs, train_loss_list, c=\"#1f77b4\", label=\"train loss\")\n",
        "plt.plot(real_epochs, test_loss_list, lw=0, marker=\"o\", c=\"#1f77b4\", label=\"test loss\")\n",
        "\n",
        "plt.xlabel(\"Epoch\")\n",
        "plt.ylabel(\"Accuracy & Loss\")\n",
        "plt.grid()\n",
        "plt.legend()"
      ],
      "execution_count": null,
      "outputs": []
    },
    {
      "cell_type": "markdown",
      "metadata": {
        "id": "mFYLCYrv4CB7"
      },
      "source": [
        "## 学習済みモデルの評価"
      ]
    },
    {
      "cell_type": "markdown",
      "metadata": {
        "id": "RbIQrLxheh5z"
      },
      "source": [
        "### 最良モデルの読み込み"
      ]
    },
    {
      "cell_type": "code",
      "metadata": {
        "id": "zj8Ruep2tbjK"
      },
      "source": [
        "model.load_state_dict(torch.load(best_model_path))   # load model parameters to the initialized model"
      ],
      "execution_count": null,
      "outputs": []
    },
    {
      "cell_type": "markdown",
      "metadata": {
        "id": "VmeOCcqtelDy"
      },
      "source": [
        "### テストデータに対する正解率"
      ]
    },
    {
      "cell_type": "code",
      "metadata": {
        "id": "OCE_DFhxtbcR"
      },
      "source": [
        "test_accuracy = 0\n",
        "\n",
        "y_test_all = np.array([])\n",
        "p_label_all = np.array([])\n",
        "\n",
        "with torch.no_grad():    # disable autograd\n",
        "    model.eval()         # set model to evaluation mode\n",
        "\n",
        "    for x_batch, y_batch in test_loader:    # take mini batch data from train_loader\n",
        "        x_batch = x_batch.to(device)        # transfer x_batch to gpu\n",
        "        y_batch = y_batch.to(device)        # transfer y_batch to gpu\n",
        "        p_batch = model(x_batch)            # do prediction\n",
        "\n",
        "        p_batch_label = torch.argmax(p_batch, dim=1)       # convert p_batch vector to p_batch_label\n",
        "        test_accuracy += (p_batch_label == y_batch).sum()  # count up number of correct predictions\n",
        "\n",
        "        y_test_all = np.append(y_test_all, y_batch.to(\"cpu\").numpy())          # append y_batch in y_test_all\n",
        "        p_label_all = np.append(p_label_all, p_batch_label.to(\"cpu\").numpy())  # append p_batch_label in p_label_all\n",
        "\n",
        "test_accuracy = test_accuracy/len(test_dataset)      # determine accuracy for test data\n",
        "print(f\"Test Accuracy = {test_accuracy:.3f}\")"
      ],
      "execution_count": null,
      "outputs": []
    },
    {
      "cell_type": "markdown",
      "metadata": {
        "id": "5MKz-8gsev5r"
      },
      "source": [
        "### 混同行列"
      ]
    },
    {
      "cell_type": "code",
      "metadata": {
        "id": "6vzxYjQByszv"
      },
      "source": [
        "from sklearn.metrics import confusion_matrix\n",
        "\n",
        "cmx = confusion_matrix(y_test_all, p_label_all)\n",
        "\n",
        "cmx_pct = np.zeros(cmx.shape)\n",
        "\n",
        "for i in range(cmx.shape[0]):\n",
        "    for j in range(cmx.shape[1]):\n",
        "        cmx_pct[i, j] = cmx[i, j]/cmx[i, :].sum()\n",
        "\n",
        "plt.figure(figsize=(6,4))\n",
        "labels = classnames.values()\n",
        "\n",
        "sns.heatmap(cmx_pct, annot=True, fmt=\".2f\", cmap=\"Blues\", vmin=0, vmax=1,\n",
        "            xticklabels=classnames.values(), yticklabels=classnames.values(), square=True)\n",
        "\n",
        "plt.ylabel(\"True\")\n",
        "plt.xlabel(\"Pred\")\n",
        "plt.title(\"confusion matrix\")"
      ],
      "execution_count": null,
      "outputs": []
    },
    {
      "cell_type": "markdown",
      "metadata": {
        "id": "QSmr3eXie0hq"
      },
      "source": [
        "### テストデータに対する推論"
      ]
    },
    {
      "cell_type": "code",
      "metadata": {
        "id": "F7jCGoOKywy6"
      },
      "source": [
        "plt.figure(figsize=(20, 14))\n",
        "\n",
        "for i in range(50):\n",
        "    image, _ = test_dataset[i]\n",
        "    image = np.transpose(image, (1,2,0))\n",
        "\n",
        "    plt.subplot(5, 10, i+1)\n",
        "    plt.imshow(image)\n",
        "\n",
        "    true_class = classnames[y_test_all[i]]\n",
        "    pred_class = classnames[p_label_all[i]]\n",
        "    if true_class == pred_class:\n",
        "        color = \"green\"\n",
        "    else:\n",
        "        color = \"red\"\n",
        "    plt.title(f\"T={true_class}\\nP={pred_class}\", color=color)\n",
        "    plt.axis(\"off\")"
      ],
      "execution_count": null,
      "outputs": []
    },
    {
      "cell_type": "markdown",
      "metadata": {
        "id": "cVJk_B4GmBtG"
      },
      "source": [
        "## 学習済みモデルのダウンロード\n",
        "モデルの学習が終わったら`best_model_resnet18.pth`をダウンロードし，JetBotに入れましょう。"
      ]
    }
  ]
}